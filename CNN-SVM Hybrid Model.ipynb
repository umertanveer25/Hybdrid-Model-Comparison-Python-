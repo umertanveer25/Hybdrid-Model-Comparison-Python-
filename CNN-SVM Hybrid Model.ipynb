{
 "cells": [
  {
   "cell_type": "code",
   "execution_count": 8,
   "id": "bf9795e3",
   "metadata": {},
   "outputs": [],
   "source": [
    "import os\n",
    "import numpy as np\n",
    "import tensorflow as tf\n",
    "from tensorflow.keras.preprocessing.image import ImageDataGenerator\n",
    "from tensorflow.keras.applications import VGG16\n",
    "from sklearn import svm\n",
    "from sklearn.metrics import accuracy_score"
   ]
  },
  {
   "cell_type": "code",
   "execution_count": 10,
   "id": "a3cbccc8",
   "metadata": {},
   "outputs": [],
   "source": [
    "# Define the path to your dataset folder (the parent folder containing class folders)\n",
    "dataset_dir = 'G:\\Data\\TB\\TB_Chest_Radiography_Database'  # Replace with the path to your dataset directory\n",
    "\n",
    "# Create a list of class names based on the subdirectories in the dataset directory\n",
    "class_names = os.listdir(dataset_dir)\n",
    "\n",
    "# Calculate the number of classes based on the class_names list\n",
    "num_classes = len(class_names)"
   ]
  },
  {
   "cell_type": "code",
   "execution_count": 11,
   "id": "85d9eef2",
   "metadata": {},
   "outputs": [],
   "source": [
    "# Define image dimensions and batch size\n",
    "image_size = (224, 224)\n",
    "batch_size = 32\n"
   ]
  },
  {
   "cell_type": "code",
   "execution_count": 12,
   "id": "bfd1e1fa",
   "metadata": {},
   "outputs": [
    {
     "name": "stdout",
     "output_type": "stream",
     "text": [
      "Found 3360 images belonging to 2 classes.\n",
      "Found 840 images belonging to 2 classes.\n"
     ]
    }
   ],
   "source": [
    "# Create a data generator for the CNN\n",
    "datagen = ImageDataGenerator(\n",
    "    rescale=1./255,\n",
    "    validation_split=0.2  # Adjust validation split as needed\n",
    ")\n",
    "\n",
    "train_generator = datagen.flow_from_directory(\n",
    "    dataset_dir,\n",
    "    target_size=image_size,\n",
    "    batch_size=batch_size,\n",
    "    class_mode='categorical',\n",
    "    subset='training'  # Use 'training' subset for training data\n",
    ")\n",
    "\n",
    "validation_generator = datagen.flow_from_directory(\n",
    "    dataset_dir,\n",
    "    target_size=image_size,\n",
    "    batch_size=batch_size,\n",
    "    class_mode='categorical',\n",
    "    subset='validation'  # Use 'validation' subset for validation data\n",
    ")\n"
   ]
  },
  {
   "cell_type": "code",
   "execution_count": 13,
   "id": "d0025b04",
   "metadata": {},
   "outputs": [
    {
     "name": "stdout",
     "output_type": "stream",
     "text": [
      "Epoch 1/10\n",
      "105/105 [==============================] - 1668s 16s/step - loss: 0.2418 - accuracy: 0.9405 - val_loss: 0.0628 - val_accuracy: 0.9821\n",
      "Epoch 2/10\n",
      "105/105 [==============================] - 1632s 16s/step - loss: 0.0271 - accuracy: 0.9932 - val_loss: 0.0486 - val_accuracy: 0.9893\n",
      "Epoch 3/10\n",
      "105/105 [==============================] - 1728s 16s/step - loss: 0.0110 - accuracy: 0.9976 - val_loss: 0.0390 - val_accuracy: 0.9845\n",
      "Epoch 4/10\n",
      "105/105 [==============================] - 2203s 21s/step - loss: 0.0051 - accuracy: 0.9991 - val_loss: 0.0330 - val_accuracy: 0.9881\n",
      "Epoch 5/10\n",
      "105/105 [==============================] - 2113s 20s/step - loss: 0.0032 - accuracy: 1.0000 - val_loss: 0.0371 - val_accuracy: 0.9917\n",
      "Epoch 6/10\n",
      "105/105 [==============================] - 1571s 15s/step - loss: 0.0016 - accuracy: 1.0000 - val_loss: 0.0339 - val_accuracy: 0.9917\n",
      "Epoch 7/10\n",
      "105/105 [==============================] - 1445s 14s/step - loss: 0.0011 - accuracy: 1.0000 - val_loss: 0.0328 - val_accuracy: 0.9917\n",
      "Epoch 8/10\n",
      "105/105 [==============================] - 2165s 21s/step - loss: 6.4327e-04 - accuracy: 1.0000 - val_loss: 0.0324 - val_accuracy: 0.9917\n",
      "Epoch 9/10\n",
      "105/105 [==============================] - 2008s 19s/step - loss: 5.0359e-04 - accuracy: 1.0000 - val_loss: 0.0329 - val_accuracy: 0.9917\n",
      "Epoch 10/10\n",
      "105/105 [==============================] - 1980s 19s/step - loss: 4.0975e-04 - accuracy: 1.0000 - val_loss: 0.0349 - val_accuracy: 0.9929\n"
     ]
    },
    {
     "data": {
      "text/plain": [
       "<keras.src.callbacks.History at 0x1662258be10>"
      ]
     },
     "execution_count": 13,
     "metadata": {},
     "output_type": "execute_result"
    }
   ],
   "source": [
    "# Build and train the CNN model\n",
    "base_model = VGG16(weights='imagenet', include_top=False, input_shape=(224, 224, 3))\n",
    "for layer in base_model.layers:\n",
    "    layer.trainable = False\n",
    "\n",
    "model = tf.keras.Sequential([\n",
    "    base_model,\n",
    "    tf.keras.layers.Flatten(),\n",
    "    tf.keras.layers.Dense(128, activation='relu'),\n",
    "    tf.keras.layers.Dense(train_generator.num_classes, activation='softmax')\n",
    "])\n",
    "\n",
    "model.compile(optimizer='adam', loss='categorical_crossentropy', metrics=['accuracy'])\n",
    "model.fit(train_generator, validation_data=validation_generator, epochs=10)\n"
   ]
  },
  {
   "cell_type": "code",
   "execution_count": 25,
   "id": "8b42c4fa",
   "metadata": {},
   "outputs": [
    {
     "name": "stdout",
     "output_type": "stream",
     "text": [
      "27/27 [==============================] - 542s 19s/step\n"
     ]
    }
   ],
   "source": [
    "\n",
    "# Use the trained CNN to extract features from the validation set\n",
    "cnn_features = model.predict(validation_generator)"
   ]
  },
  {
   "cell_type": "code",
   "execution_count": 27,
   "id": "7093e164",
   "metadata": {},
   "outputs": [
    {
     "data": {
      "text/html": [
       "<style>#sk-container-id-2 {color: black;}#sk-container-id-2 pre{padding: 0;}#sk-container-id-2 div.sk-toggleable {background-color: white;}#sk-container-id-2 label.sk-toggleable__label {cursor: pointer;display: block;width: 100%;margin-bottom: 0;padding: 0.3em;box-sizing: border-box;text-align: center;}#sk-container-id-2 label.sk-toggleable__label-arrow:before {content: \"▸\";float: left;margin-right: 0.25em;color: #696969;}#sk-container-id-2 label.sk-toggleable__label-arrow:hover:before {color: black;}#sk-container-id-2 div.sk-estimator:hover label.sk-toggleable__label-arrow:before {color: black;}#sk-container-id-2 div.sk-toggleable__content {max-height: 0;max-width: 0;overflow: hidden;text-align: left;background-color: #f0f8ff;}#sk-container-id-2 div.sk-toggleable__content pre {margin: 0.2em;color: black;border-radius: 0.25em;background-color: #f0f8ff;}#sk-container-id-2 input.sk-toggleable__control:checked~div.sk-toggleable__content {max-height: 200px;max-width: 100%;overflow: auto;}#sk-container-id-2 input.sk-toggleable__control:checked~label.sk-toggleable__label-arrow:before {content: \"▾\";}#sk-container-id-2 div.sk-estimator input.sk-toggleable__control:checked~label.sk-toggleable__label {background-color: #d4ebff;}#sk-container-id-2 div.sk-label input.sk-toggleable__control:checked~label.sk-toggleable__label {background-color: #d4ebff;}#sk-container-id-2 input.sk-hidden--visually {border: 0;clip: rect(1px 1px 1px 1px);clip: rect(1px, 1px, 1px, 1px);height: 1px;margin: -1px;overflow: hidden;padding: 0;position: absolute;width: 1px;}#sk-container-id-2 div.sk-estimator {font-family: monospace;background-color: #f0f8ff;border: 1px dotted black;border-radius: 0.25em;box-sizing: border-box;margin-bottom: 0.5em;}#sk-container-id-2 div.sk-estimator:hover {background-color: #d4ebff;}#sk-container-id-2 div.sk-parallel-item::after {content: \"\";width: 100%;border-bottom: 1px solid gray;flex-grow: 1;}#sk-container-id-2 div.sk-label:hover label.sk-toggleable__label {background-color: #d4ebff;}#sk-container-id-2 div.sk-serial::before {content: \"\";position: absolute;border-left: 1px solid gray;box-sizing: border-box;top: 0;bottom: 0;left: 50%;z-index: 0;}#sk-container-id-2 div.sk-serial {display: flex;flex-direction: column;align-items: center;background-color: white;padding-right: 0.2em;padding-left: 0.2em;position: relative;}#sk-container-id-2 div.sk-item {position: relative;z-index: 1;}#sk-container-id-2 div.sk-parallel {display: flex;align-items: stretch;justify-content: center;background-color: white;position: relative;}#sk-container-id-2 div.sk-item::before, #sk-container-id-2 div.sk-parallel-item::before {content: \"\";position: absolute;border-left: 1px solid gray;box-sizing: border-box;top: 0;bottom: 0;left: 50%;z-index: -1;}#sk-container-id-2 div.sk-parallel-item {display: flex;flex-direction: column;z-index: 1;position: relative;background-color: white;}#sk-container-id-2 div.sk-parallel-item:first-child::after {align-self: flex-end;width: 50%;}#sk-container-id-2 div.sk-parallel-item:last-child::after {align-self: flex-start;width: 50%;}#sk-container-id-2 div.sk-parallel-item:only-child::after {width: 0;}#sk-container-id-2 div.sk-dashed-wrapped {border: 1px dashed gray;margin: 0 0.4em 0.5em 0.4em;box-sizing: border-box;padding-bottom: 0.4em;background-color: white;}#sk-container-id-2 div.sk-label label {font-family: monospace;font-weight: bold;display: inline-block;line-height: 1.2em;}#sk-container-id-2 div.sk-label-container {text-align: center;}#sk-container-id-2 div.sk-container {/* jupyter's `normalize.less` sets `[hidden] { display: none; }` but bootstrap.min.css set `[hidden] { display: none !important; }` so we also need the `!important` here to be able to override the default hidden behavior on the sphinx rendered scikit-learn.org. See: https://github.com/scikit-learn/scikit-learn/issues/21755 */display: inline-block !important;position: relative;}#sk-container-id-2 div.sk-text-repr-fallback {display: none;}</style><div id=\"sk-container-id-2\" class=\"sk-top-container\"><div class=\"sk-text-repr-fallback\"><pre>SVC(kernel=&#x27;linear&#x27;)</pre><b>In a Jupyter environment, please rerun this cell to show the HTML representation or trust the notebook. <br />On GitHub, the HTML representation is unable to render, please try loading this page with nbviewer.org.</b></div><div class=\"sk-container\" hidden><div class=\"sk-item\"><div class=\"sk-estimator sk-toggleable\"><input class=\"sk-toggleable__control sk-hidden--visually\" id=\"sk-estimator-id-2\" type=\"checkbox\" checked><label for=\"sk-estimator-id-2\" class=\"sk-toggleable__label sk-toggleable__label-arrow\">SVC</label><div class=\"sk-toggleable__content\"><pre>SVC(kernel=&#x27;linear&#x27;)</pre></div></div></div></div></div>"
      ],
      "text/plain": [
       "SVC(kernel='linear')"
      ]
     },
     "execution_count": 27,
     "metadata": {},
     "output_type": "execute_result"
    }
   ],
   "source": [
    "# Build and train the SVM classifier on the CNN features\n",
    "svm_classifier = svm.SVC(kernel='linear')\n",
    "svm_classifier.fit(cnn_features, validation_generator.classes)"
   ]
  },
  {
   "cell_type": "code",
   "execution_count": 28,
   "id": "bb437ea7",
   "metadata": {},
   "outputs": [
    {
     "name": "stdout",
     "output_type": "stream",
     "text": [
      "Accuracy of the hybrid CNN-SVM model: 83.33%\n"
     ]
    }
   ],
   "source": [
    "# Evaluate the SVM classifier on the validation set\n",
    "svm_predictions = svm_classifier.predict(cnn_features)\n",
    "true_labels = validation_generator.classes\n",
    "accuracy = accuracy_score(true_labels, svm_predictions)\n",
    "print(f'Accuracy of the hybrid CNN-SVM model: {accuracy * 100:.2f}%')"
   ]
  },
  {
   "cell_type": "code",
   "execution_count": 29,
   "id": "092661ed",
   "metadata": {},
   "outputs": [
    {
     "name": "stdout",
     "output_type": "stream",
     "text": [
      "27/27 [==============================] - 424s 16s/step\n",
      "              precision    recall  f1-score   support\n",
      "\n",
      "           0       0.84      0.85      0.84       700\n",
      "           1       0.20      0.19      0.20       140\n",
      "\n",
      "    accuracy                           0.74       840\n",
      "   macro avg       0.52      0.52      0.52       840\n",
      "weighted avg       0.73      0.74      0.74       840\n",
      "\n"
     ]
    }
   ],
   "source": [
    "from sklearn.metrics import classification_report\n",
    "\n",
    "# Assuming you have made predictions using your model (replace 'predictions' with your actual predictions)\n",
    "predictions = model.predict(validation_generator)\n",
    "\n",
    "# Convert one-hot encoded predictions to class labels\n",
    "predicted_labels = np.argmax(predictions, axis=1)\n",
    "\n",
    "# Get the true labels from the validation dataset (replace 'true_labels' with your actual true labels)\n",
    "true_labels = validation_generator.classes\n",
    "\n",
    "# Generate and print the classification report\n",
    "report = classification_report(true_labels, predicted_labels)\n",
    "print(report)\n"
   ]
  },
  {
   "cell_type": "code",
   "execution_count": 30,
   "id": "0be6cf1e",
   "metadata": {},
   "outputs": [
    {
     "name": "stdout",
     "output_type": "stream",
     "text": [
      "27/27 [==============================] - 427s 16s/step\n",
      "Confusion Matrix:\n",
      "[[595 105]\n",
      " [111  29]]\n"
     ]
    }
   ],
   "source": [
    "from sklearn.metrics import confusion_matrix\n",
    "\n",
    "# Assuming you have made predictions using your model (replace 'predictions' with your actual predictions)\n",
    "predictions = model.predict(validation_generator)\n",
    "\n",
    "# Convert one-hot encoded predictions to class labels\n",
    "predicted_labels = np.argmax(predictions, axis=1)\n",
    "\n",
    "# Get the true labels from the validation dataset (replace 'true_labels' with your actual true labels)\n",
    "true_labels = validation_generator.classes\n",
    "\n",
    "# Generate the confusion matrix\n",
    "confusion = confusion_matrix(true_labels, predicted_labels)\n",
    "\n",
    "# Print the confusion matrix\n",
    "print(\"Confusion Matrix:\")\n",
    "print(confusion)\n"
   ]
  },
  {
   "cell_type": "code",
   "execution_count": 31,
   "id": "0fb8a418",
   "metadata": {},
   "outputs": [
    {
     "name": "stdout",
     "output_type": "stream",
     "text": [
      "Epoch 1/10\n",
      "105/105 [==============================] - 1821s 17s/step - loss: 3.3063e-04 - accuracy: 1.0000 - val_loss: 0.0349 - val_accuracy: 0.9929\n",
      "Epoch 2/10\n",
      "105/105 [==============================] - 2192s 21s/step - loss: 2.7248e-04 - accuracy: 1.0000 - val_loss: 0.0349 - val_accuracy: 0.9917\n",
      "Epoch 3/10\n",
      "105/105 [==============================] - 2222s 21s/step - loss: 2.2598e-04 - accuracy: 1.0000 - val_loss: 0.0374 - val_accuracy: 0.9929\n",
      "Epoch 4/10\n",
      "105/105 [==============================] - 2280s 22s/step - loss: 1.9067e-04 - accuracy: 1.0000 - val_loss: 0.0388 - val_accuracy: 0.9929\n",
      "Epoch 5/10\n",
      "105/105 [==============================] - 2172s 21s/step - loss: 1.6372e-04 - accuracy: 1.0000 - val_loss: 0.0387 - val_accuracy: 0.9929\n",
      "Epoch 6/10\n",
      "105/105 [==============================] - 2115s 20s/step - loss: 1.4106e-04 - accuracy: 1.0000 - val_loss: 0.0346 - val_accuracy: 0.9917\n",
      "Epoch 7/10\n",
      "105/105 [==============================] - 2074s 20s/step - loss: 1.2555e-04 - accuracy: 1.0000 - val_loss: 0.0361 - val_accuracy: 0.9929\n",
      "Epoch 8/10\n",
      "105/105 [==============================] - 2120s 20s/step - loss: 1.0823e-04 - accuracy: 1.0000 - val_loss: 0.0381 - val_accuracy: 0.9929\n",
      "Epoch 9/10\n",
      "105/105 [==============================] - 1615s 15s/step - loss: 9.5897e-05 - accuracy: 1.0000 - val_loss: 0.0381 - val_accuracy: 0.9929\n",
      "Epoch 10/10\n",
      "105/105 [==============================] - 1698s 16s/step - loss: 8.5843e-05 - accuracy: 1.0000 - val_loss: 0.0380 - val_accuracy: 0.9929\n"
     ]
    },
    {
     "data": {
      "image/png": "[encoded data removed]",
      "text/plain": [
       "<Figure size 1200x400 with 2 Axes>"
      ]
     },
     "metadata": {},
     "output_type": "display_data"
    }
   ],
   "source": [
    "import matplotlib.pyplot as plt\n",
    "\n",
    "# Train the model and store the training history\n",
    "history = model.fit(train_generator, epochs=10, validation_data=validation_generator)\n",
    "\n",
    "# Plot training and validation accuracy\n",
    "plt.figure(figsize=(12, 4))\n",
    "plt.subplot(1, 2, 1)\n",
    "plt.plot(history.history['accuracy'], label='Training Accuracy')\n",
    "plt.plot(history.history['val_accuracy'], label='Validation Accuracy')\n",
    "plt.xlabel('Epoch')\n",
    "plt.ylabel('Accuracy')\n",
    "plt.legend()\n",
    "plt.title('Accuracy')\n",
    "\n",
    "# Plot training and validation loss\n",
    "plt.subplot(1, 2, 2)\n",
    "plt.plot(history.history['loss'], label='Training Loss')\n",
    "plt.plot(history.history['val_loss'], label='Validation Loss')\n",
    "plt.xlabel('Epoch')\n",
    "plt.ylabel('Loss')\n",
    "plt.legend()\n",
    "plt.title('Loss')\n",
    "\n",
    "plt.tight_layout()\n",
    "plt.show()\n",
    "   "
   ]
  },
  {
   "cell_type": "code",
   "execution_count": 32,
   "id": "1d2ae315",
   "metadata": {},
   "outputs": [
    {
     "name": "stdout",
     "output_type": "stream",
     "text": [
      "27/27 [==============================] - 471s 16s/step\n",
      "Classification Report:\n",
      "              precision    recall  f1-score   support\n",
      "\n",
      "      Normal       0.84      0.85      0.84       700\n",
      "Tuberculosis       0.20      0.19      0.20       140\n",
      "\n",
      "    accuracy                           0.74       840\n",
      "   macro avg       0.52      0.52      0.52       840\n",
      "weighted avg       0.73      0.74      0.74       840\n",
      "\n",
      "\n",
      "Confusion Matrix:\n",
      "[[593 107]\n",
      " [113  27]]\n"
     ]
    }
   ],
   "source": [
    "import numpy as np\n",
    "from sklearn.metrics import classification_report, confusion_matrix\n",
    "\n",
    "# Assuming you have made predictions using your model (replace 'predictions' with your actual predictions)\n",
    "predictions = model.predict(validation_generator)\n",
    "\n",
    "# Convert one-hot encoded predictions to class labels\n",
    "predicted_labels = np.argmax(predictions, axis=1)\n",
    "\n",
    "# Get the true labels from the validation dataset (replace 'true_labels' with your actual true labels)\n",
    "true_labels = validation_generator.classes\n",
    "\n",
    "# Print the classification report\n",
    "report = classification_report(true_labels, predicted_labels, target_names=['Normal', 'Tuberculosis'])\n",
    "print(\"Classification Report:\")\n",
    "print(report)\n",
    "\n",
    "# Generate the confusion matrix\n",
    "confusion = confusion_matrix(true_labels, predicted_labels)\n",
    "\n",
    "# Print the confusion matrix\n",
    "print(\"\\nConfusion Matrix:\")\n",
    "print(confusion)\n"
   ]
  },
  {
   "cell_type": "code",
   "execution_count": null,
   "id": "7ae2a32e",
   "metadata": {},
   "outputs": [],
   "source": []
  }
 ],
 "metadata": {
  "kernelspec": {
   "display_name": "Python 3 (ipykernel)",
   "language": "python",
   "name": "python3"
  },
  "language_info": {
   "codemirror_mode": {
    "name": "ipython",
    "version": 3
   },
   "file_extension": ".py",
   "mimetype": "text/x-python",
   "name": "python",
   "nbconvert_exporter": "python",
   "pygments_lexer": "ipython3",
   "version": "3.11.4"
  }
 },
 "nbformat": 4,
 "nbformat_minor": 5
}
